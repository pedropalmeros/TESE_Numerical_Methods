{
 "cells": [
  {
   "cell_type": "markdown",
   "metadata": {},
   "source": [
    "# Listas - Segunda parte\n",
    "\n",
    "Coo se ha visto en otros notebooks de este curso, el ciclo for puede actuar a través de una lista, esto se hace através de iteradores en la siguiente celda se muestra un ejemplo"
   ]
  },
  {
   "cell_type": "code",
   "execution_count": 1,
   "metadata": {},
   "outputs": [
    {
     "name": "stdout",
     "output_type": "stream",
     "text": [
      "Amarillo\n",
      "Cyan\n",
      "Magenta\n",
      "Blanco\n",
      "Negro\n",
      "Morado\n",
      "Azul\n",
      "Verde\n",
      "Lila\n",
      "Rojo\n"
     ]
    }
   ],
   "source": [
    "# Celda 01\n",
    "\n",
    "colores = ['Amarillo','Cyan','Magenta','Blanco','Negro', 'Morado','Azul', 'Verde','Lila','Rojo']\n",
    "\n",
    "for color in colores:\n",
    "    print(color)"
   ]
  },
  {
   "cell_type": "markdown",
   "metadata": {},
   "source": [
    "También se puede extraer cada elemento a través del índice de la lista esto se haría como se muestra a continuación "
   ]
  },
  {
   "cell_type": "code",
   "execution_count": 2,
   "metadata": {
    "scrolled": true
   },
   "outputs": [
    {
     "name": "stdout",
     "output_type": "stream",
     "text": [
      "Amarillo\n",
      "Cyan\n",
      "Magenta\n",
      "Blanco\n",
      "Negro\n",
      "Morado\n",
      "Azul\n",
      "Verde\n",
      "Lila\n",
      "Rojo\n"
     ]
    }
   ],
   "source": [
    "# Celda 02\n",
    "\n",
    "colores = ['Amarillo','Cyan','Magenta','Blanco','Negro', 'Morado','Azul', 'Verde','Lila','Rojo']\n",
    "\n",
    "for index in range(len(colores)):\n",
    "    print(colores[index])"
   ]
  },
  {
   "cell_type": "markdown",
   "metadata": {},
   "source": [
    "# Trabajando con partes de alguna lista\n",
    "\n",
    "Una característica importante de las listas es que éstas se pueden partir o extraer sólo una parte ellas para poder procesarlas de manera independiente, observe el siguiente código"
   ]
  },
  {
   "cell_type": "code",
   "execution_count": 6,
   "metadata": {},
   "outputs": [
    {
     "name": "stdout",
     "output_type": "stream",
     "text": [
      "['Amarillo', 'Cyan', 'Magenta']\n",
      "['Amarillo', 'Cyan', 'Magenta', 'Blanco', 'Negro', 'Morado', 'Azul']\n",
      "Negro\n"
     ]
    }
   ],
   "source": [
    "# Celda 03\n",
    "\n",
    "colores = ['Amarillo','Cyan','Magenta','Blanco','Negro', 'Morado','Azul', 'Verde','Lila','Rojo']\n",
    "\n",
    "colores_primarios = colores[0:3]\n",
    "\n",
    "colores_otros = colores[0:-3]\n",
    "\n",
    "print(colores_primarios)\n",
    "\n",
    "print(colores_otros)\n",
    "\n",
    "print(colores[-6])"
   ]
  },
  {
   "cell_type": "markdown",
   "metadata": {},
   "source": [
    "Se pueden extraer partes de una no importando el subíndice, aunque si no hay valores dentro de los subíndices que ha puesto tendrá un lista vacía como resultado."
   ]
  },
  {
   "cell_type": "code",
   "execution_count": 7,
   "metadata": {},
   "outputs": [
    {
     "name": "stdout",
     "output_type": "stream",
     "text": [
      "['Blanco', 'Negro', 'Morado', 'Azul', 'Verde']\n",
      "['Lila', 'Rojo']\n"
     ]
    }
   ],
   "source": [
    "# Celda 04\n",
    "\n",
    "colores = ['Amarillo','Cyan','Magenta','Blanco','Negro', 'Morado','Azul', 'Verde','Lila','Rojo']\n",
    "\n",
    "otros_colores = colores[3:8]\n",
    "\n",
    "print(otros_colores)\n",
    "\n",
    "otros_colores = colores[8:10]\n",
    "\n",
    "print(otros_colores)\n"
   ]
  },
  {
   "cell_type": "markdown",
   "metadata": {},
   "source": [
    "En caso que no se haya definido un índice inicial y no uno final, se tomara del elemento que se haya indicado hasta el final.  Tal como se muestra en la siguiente celda"
   ]
  },
  {
   "cell_type": "code",
   "execution_count": 8,
   "metadata": {},
   "outputs": [
    {
     "name": "stdout",
     "output_type": "stream",
     "text": [
      "['Blanco', 'Negro', 'Morado', 'Azul', 'Verde', 'Lila', 'Rojo']\n"
     ]
    }
   ],
   "source": [
    "# Celda 05\n",
    "\n",
    "colores = ['Amarillo','Cyan','Magenta','Blanco','Negro', 'Morado','Azul', 'Verde','Lila','Rojo']\n",
    "\n",
    "otros_colores = colores[3:]\n",
    "\n",
    "print(otros_colores)\n",
    "\n"
   ]
  },
  {
   "cell_type": "markdown",
   "metadata": {},
   "source": [
    "En caso que no se haya especificado índice inicial y sólo final tomará desde el inicio de la lista hasta la posición - 1 que haya asignado."
   ]
  },
  {
   "cell_type": "code",
   "execution_count": 9,
   "metadata": {},
   "outputs": [
    {
     "name": "stdout",
     "output_type": "stream",
     "text": [
      "['Amarillo', 'Cyan', 'Magenta', 'Blanco', 'Negro']\n"
     ]
    }
   ],
   "source": [
    "# Celda 06\n",
    "\n",
    "colores = ['Amarillo','Cyan','Magenta','Blanco','Negro', 'Morado','Azul', 'Verde','Lila','Rojo']\n",
    "\n",
    "otros_colores = colores[:5]\n",
    "\n",
    "print(otros_colores)"
   ]
  },
  {
   "cell_type": "markdown",
   "metadata": {},
   "source": [
    "Si no se han especificado ninguno de los dos índices se tomara toda la listo, esto es muy útil cuando se requiere copiar toda una lista"
   ]
  },
  {
   "cell_type": "markdown",
   "metadata": {},
   "source": [
    "## List comprehension"
   ]
  },
  {
   "cell_type": "markdown",
   "metadata": {},
   "source": [
    "Ahora suponga que quiere definir una lista y después tomar cada elemento y elevarlo al cuadrado, uno de los enfoques sería, primero generar una lista o vector y después tomar cada elemento del vector y hacer la operación matemática, tal como se muestra en la siguiente celda"
   ]
  },
  {
   "cell_type": "code",
   "execution_count": 10,
   "metadata": {},
   "outputs": [
    {
     "name": "stdout",
     "output_type": "stream",
     "text": [
      "[0, 1, 2, 3, 4, 5, 6, 7, 8, 9, 10]\n",
      "[0, 1, 4, 9, 16, 25, 36, 49, 64, 81, 100]\n"
     ]
    }
   ],
   "source": [
    "# Celda 07\n",
    "\n",
    "x = list(range(0,11,1))\n",
    "y = []\n",
    "print(x)\n",
    "for value in x:\n",
    "    square = value**2\n",
    "    y.append(square)\n",
    "print(y)"
   ]
  },
  {
   "cell_type": "markdown",
   "metadata": {},
   "source": [
    "La segunda opción es utilizar el enfoque que se llama `list comprehension`, el mismo código se muestra a continuación en la siguiente celda."
   ]
  },
  {
   "cell_type": "code",
   "execution_count": 11,
   "metadata": {},
   "outputs": [
    {
     "name": "stdout",
     "output_type": "stream",
     "text": [
      "[1, 4, 9, 16, 25, 36, 49, 64, 81, 100]\n"
     ]
    }
   ],
   "source": [
    "# Celda 08\n",
    "\n",
    "y = [value**2 for value in range(1,11,1)]\n",
    "print(y)"
   ]
  },
  {
   "cell_type": "markdown",
   "metadata": {},
   "source": [
    "# Utilizando las listas para poder  hacer asignaciones mútiples\n",
    "\n",
    "Considere el siguiente ejemplo \n"
   ]
  },
  {
   "cell_type": "code",
   "execution_count": 12,
   "metadata": {},
   "outputs": [
    {
     "name": "stdout",
     "output_type": "stream",
     "text": [
      "4\n",
      "8\n",
      "16\n"
     ]
    }
   ],
   "source": [
    "# Celda 09\n",
    "\n",
    "valores = [4,8,16]\n",
    "\n",
    "numero, doble,cuadrado = valores\n",
    "\n",
    "print(numero)\n",
    "print(doble)\n",
    "print(cuadrado)"
   ]
  },
  {
   "cell_type": "markdown",
   "metadata": {},
   "source": [
    "Observe que se ha hecho una asignación triple, este tipo de situaciones son muy útiles al momento de poder hacer funciones en las que se requiere que regresen varios valores de forma mútliple.  Observe el siguiente código\n",
    " "
   ]
  },
  {
   "cell_type": "code",
   "execution_count": 13,
   "metadata": {},
   "outputs": [
    {
     "name": "stdout",
     "output_type": "stream",
     "text": [
      "El cuadrado de 4 es:  16\n",
      "El cubo de 4 es:  64\n",
      "La raiz de 4 es:  2.0\n"
     ]
    }
   ],
   "source": [
    "# Celda 10\n",
    "\n",
    "def calculos(valor):\n",
    "    cuadrado = valor**2\n",
    "    cubo = valor **3\n",
    "    raiz = valor**(1/2)\n",
    "    return [cuadrado, cubo, raiz]\n",
    "\n",
    "cuadrado, cubo, raiz = calculos(4)\n",
    "\n",
    "print(\"El cuadrado de 4 es: \", cuadrado)\n",
    "print(\"El cubo de 4 es: \",cubo)\n",
    "print(\"La raiz de 4 es: \", raiz)"
   ]
  },
  {
   "cell_type": "markdown",
   "metadata": {},
   "source": [
    "# Operadores extras y muy útiles en listas\n",
    "\n",
    "## max()\n",
    "La función `max()` regresa el valor máximo de una lista NUMERICA y de una lista que contiene texto regesará el valor que esté en el último lugar si se organiza la lista en orden alfabético "
   ]
  },
  {
   "cell_type": "code",
   "execution_count": 26,
   "metadata": {},
   "outputs": [
    {
     "name": "stdout",
     "output_type": "stream",
     "text": [
      "Verde\n"
     ]
    }
   ],
   "source": [
    "# Celda 11\n",
    "\n",
    "colores = ['Amarillo','Cyan','Magenta','Blanco','Negro', 'Morado','Azul', 'Verde','Lila','Rojo']\n",
    "\n",
    "print(max(colores))"
   ]
  },
  {
   "cell_type": "code",
   "execution_count": 27,
   "metadata": {},
   "outputs": [
    {
     "name": "stdout",
     "output_type": "stream",
     "text": [
      "92\n"
     ]
    }
   ],
   "source": [
    "# Celda 12\n",
    "\n",
    "valores = [ 1, 7, 9 , 92,2, -1, -38]\n",
    "print(max(valores))\n"
   ]
  },
  {
   "cell_type": "markdown",
   "metadata": {},
   "source": [
    "## min()\n",
    "El operador min regresa el valor mínimo  de una lista"
   ]
  },
  {
   "cell_type": "code",
   "execution_count": 28,
   "metadata": {},
   "outputs": [
    {
     "name": "stdout",
     "output_type": "stream",
     "text": [
      "Amarillo\n"
     ]
    }
   ],
   "source": [
    "# Celda 13\n",
    "\n",
    "colores = ['Amarillo','Cyan','Magenta','Blanco','Negro', 'Morado','Azul', 'Verde','Lila','Rojo']\n",
    "\n",
    "print(min(colores))"
   ]
  },
  {
   "cell_type": "code",
   "execution_count": 29,
   "metadata": {},
   "outputs": [
    {
     "name": "stdout",
     "output_type": "stream",
     "text": [
      "-38\n"
     ]
    }
   ],
   "source": [
    "# Celda 14\n",
    "\n",
    "valores = [ 1, 7, 9 , 92,2, -1, -38]\n",
    "print(min(valores))\n"
   ]
  },
  {
   "cell_type": "markdown",
   "metadata": {},
   "source": [
    "## sum()\n",
    "Resgresa la suma de los elementos de una lista, **SOLO FUNCIONA CON LISTAS CUYOS ELEMENTOS SON NUMÉRICOS**\n",
    "\n"
   ]
  },
  {
   "cell_type": "code",
   "execution_count": 30,
   "metadata": {},
   "outputs": [
    {
     "data": {
      "text/plain": [
       "72"
      ]
     },
     "execution_count": 30,
     "metadata": {},
     "output_type": "execute_result"
    }
   ],
   "source": [
    "# Celda 15\n",
    "\n",
    "valores = [ 1, 7, 9 , 92,2, -1, -38]\n",
    "sum(valores)"
   ]
  },
  {
   "cell_type": "markdown",
   "metadata": {},
   "source": [
    "## `in` y `not in`\n",
    "Estos operadores nos ayudan a verficar si algún elemento está dentro de la lista o no, observe el comportamiento en la siguient celda"
   ]
  },
  {
   "cell_type": "code",
   "execution_count": 14,
   "metadata": {},
   "outputs": [
    {
     "name": "stdout",
     "output_type": "stream",
     "text": [
      "False\n"
     ]
    }
   ],
   "source": [
    "# Celda 16\n",
    "\n",
    "colores = ['Amarillo','Cyan','Magenta','Blanco','Negro', 'Morado','Azul', 'Verde','Lila','Rojo']\n",
    "\n",
    "print('beige' in colores)"
   ]
  },
  {
   "cell_type": "code",
   "execution_count": 15,
   "metadata": {},
   "outputs": [
    {
     "name": "stdout",
     "output_type": "stream",
     "text": [
      "True\n"
     ]
    }
   ],
   "source": [
    "# Celda 17\n",
    "\n",
    "colores = ['Amarillo','Cyan','Magenta','Blanco','Negro', 'Morado','Azul', 'Verde','Lila','Rojo']\n",
    "\n",
    "print('beige' not in colores)"
   ]
  },
  {
   "cell_type": "markdown",
   "metadata": {},
   "source": [
    "## index \n",
    "\n",
    "Este método de las listas ayuda regresa el índice de un elemento si es que el valor de dicho elemento está dentro de la lista, observe el siguiente ejemplo"
   ]
  },
  {
   "cell_type": "code",
   "execution_count": 16,
   "metadata": {},
   "outputs": [
    {
     "name": "stdout",
     "output_type": "stream",
     "text": [
      "2\n"
     ]
    },
    {
     "ename": "ValueError",
     "evalue": "'Beige' is not in list",
     "output_type": "error",
     "traceback": [
      "\u001b[0;31m---------------------------------------------------------------------------\u001b[0m",
      "\u001b[0;31mValueError\u001b[0m                                Traceback (most recent call last)",
      "\u001b[0;32m<ipython-input-16-4efb2f9e4292>\u001b[0m in \u001b[0;36m<module>\u001b[0;34m\u001b[0m\n\u001b[1;32m      5\u001b[0m \u001b[0mprint\u001b[0m\u001b[0;34m(\u001b[0m\u001b[0mcolores\u001b[0m\u001b[0;34m.\u001b[0m\u001b[0mindex\u001b[0m\u001b[0;34m(\u001b[0m\u001b[0;34m'Magenta'\u001b[0m\u001b[0;34m)\u001b[0m\u001b[0;34m)\u001b[0m\u001b[0;34m\u001b[0m\u001b[0;34m\u001b[0m\u001b[0m\n\u001b[1;32m      6\u001b[0m \u001b[0;34m\u001b[0m\u001b[0m\n\u001b[0;32m----> 7\u001b[0;31m \u001b[0mprint\u001b[0m\u001b[0;34m(\u001b[0m\u001b[0mcolores\u001b[0m\u001b[0;34m.\u001b[0m\u001b[0mindex\u001b[0m\u001b[0;34m(\u001b[0m\u001b[0;34m'Beige'\u001b[0m\u001b[0;34m)\u001b[0m\u001b[0;34m)\u001b[0m\u001b[0;34m\u001b[0m\u001b[0;34m\u001b[0m\u001b[0m\n\u001b[0m",
      "\u001b[0;31mValueError\u001b[0m: 'Beige' is not in list"
     ]
    }
   ],
   "source": [
    "# Celda 18\n",
    "\n",
    "colores = ['Amarillo','Cyan','Magenta','Blanco','Negro', 'Morado','Azul', 'Verde','Lila','Rojo']\n",
    "\n",
    "print(colores.index('Magenta'))\n",
    "\n",
    "print(colores.index('Beige'))\n"
   ]
  },
  {
   "cell_type": "markdown",
   "metadata": {},
   "source": [
    "# Estructuras de datos mutables e inmutables\n",
    "\n",
    "Las listas no son el único tipo de estructuras de datos, existen las cadenas de caracteres o strings, entre otras estructuras, sin embargo, se pueden clasificar en dos grandes grupos, estructuras mutables e inmutables.\n",
    "\n",
    "Una lista es una estructura mutable, ua que aunque se haya declarado e inicializado los elementos,  éstos pueden cambiar uno por uno o toda la lista, esta característica es propia de de las **ESTRUCTURAS DE DATOS MUTABLES**. Se han visto varios ejemplos a lo largo de éste notebook y otros. \n",
    "\n",
    "\n",
    "Una **Estructura de datos inmutable** es aquella en la que una vez que se ha declarado e inicializada nose puden cambiar elemento por elemento sino que se debe de modificar toda la estructura de datos, un ejemplo de estas estructurasd e datos son los `strings` y las `tuplas`, que de manera no formal y muy burda se puede decir que son las listas inmutables, al ser inmutables hay algunos elementos o métodos de las listas que no aplican para las tuplas. \n",
    "\n",
    "En las siguientes celdas se muestra la inumtabilidad de los `strings`.\n"
   ]
  },
  {
   "cell_type": "code",
   "execution_count": 18,
   "metadata": {},
   "outputs": [
    {
     "ename": "TypeError",
     "evalue": "'str' object does not support item assignment",
     "output_type": "error",
     "traceback": [
      "\u001b[0;31m---------------------------------------------------------------------------\u001b[0m",
      "\u001b[0;31mTypeError\u001b[0m                                 Traceback (most recent call last)",
      "\u001b[0;32m<ipython-input-18-3cec6089383b>\u001b[0m in \u001b[0;36m<module>\u001b[0;34m\u001b[0m\n\u001b[1;32m      2\u001b[0m \u001b[0;34m\u001b[0m\u001b[0m\n\u001b[1;32m      3\u001b[0m \u001b[0mstring_01\u001b[0m \u001b[0;34m=\u001b[0m \u001b[0;34m'Hola muchachos'\u001b[0m\u001b[0;34m\u001b[0m\u001b[0;34m\u001b[0m\u001b[0m\n\u001b[0;32m----> 4\u001b[0;31m \u001b[0mstring_01\u001b[0m\u001b[0;34m[\u001b[0m\u001b[0;36m3\u001b[0m\u001b[0;34m]\u001b[0m \u001b[0;34m=\u001b[0m \u001b[0;34m'k'\u001b[0m\u001b[0;34m\u001b[0m\u001b[0;34m\u001b[0m\u001b[0m\n\u001b[0m",
      "\u001b[0;31mTypeError\u001b[0m: 'str' object does not support item assignment"
     ]
    }
   ],
   "source": [
    "# Celda 19\n",
    "\n",
    "string_01 = 'Hola muchachos'\n",
    "string_01[3] = 'k'"
   ]
  },
  {
   "cell_type": "code",
   "execution_count": 19,
   "metadata": {},
   "outputs": [
    {
     "name": "stdout",
     "output_type": "stream",
     "text": [
      "Hola muchachos\n",
      "Python programming\n"
     ]
    }
   ],
   "source": [
    "# Celda 20\n",
    "\n",
    "string_01 = 'Hola muchachos'\n",
    "print(string_01)\n",
    "\n",
    "string_01 = 'Python programming'\n",
    "print(string_01)"
   ]
  },
  {
   "cell_type": "markdown",
   "metadata": {},
   "source": [
    "# Tuplas\n",
    "Como ya se ha mencionado las tuplas son estructuras numéricas inmutables, la sintaxis para definir una tupla es muy similar a las listas, sólo que en vez de utilizar corchetes (`[ ]`), se utilizarán los paréntesis `(  )`."
   ]
  },
  {
   "cell_type": "raw",
   "metadata": {},
   "source": [
    "miTupla = (valor1, valor2, valor3)"
   ]
  },
  {
   "cell_type": "code",
   "execution_count": 20,
   "metadata": {},
   "outputs": [
    {
     "name": "stdout",
     "output_type": "stream",
     "text": [
      "(6, 'hola', 8)\n"
     ]
    }
   ],
   "source": [
    "Tupla_01 = (6,'hola',8)\n",
    "print(Tupla_01)"
   ]
  },
  {
   "cell_type": "code",
   "execution_count": 21,
   "metadata": {
    "scrolled": true
   },
   "outputs": [
    {
     "ename": "TypeError",
     "evalue": "'tuple' object does not support item assignment",
     "output_type": "error",
     "traceback": [
      "\u001b[0;31m---------------------------------------------------------------------------\u001b[0m",
      "\u001b[0;31mTypeError\u001b[0m                                 Traceback (most recent call last)",
      "\u001b[0;32m<ipython-input-21-f9178a093425>\u001b[0m in \u001b[0;36m<module>\u001b[0;34m\u001b[0m\n\u001b[1;32m      1\u001b[0m \u001b[0mTupla_01\u001b[0m \u001b[0;34m=\u001b[0m \u001b[0;34m(\u001b[0m\u001b[0;36m6\u001b[0m\u001b[0;34m,\u001b[0m\u001b[0;34m'hola'\u001b[0m\u001b[0;34m,\u001b[0m\u001b[0;36m8\u001b[0m\u001b[0;34m)\u001b[0m\u001b[0;34m\u001b[0m\u001b[0;34m\u001b[0m\u001b[0m\n\u001b[0;32m----> 2\u001b[0;31m \u001b[0mTupla_01\u001b[0m\u001b[0;34m[\u001b[0m\u001b[0;36m1\u001b[0m\u001b[0;34m]\u001b[0m \u001b[0;34m=\u001b[0m \u001b[0;36m5\u001b[0m\u001b[0;34m\u001b[0m\u001b[0;34m\u001b[0m\u001b[0m\n\u001b[0m\u001b[1;32m      3\u001b[0m \u001b[0mprint\u001b[0m\u001b[0;34m(\u001b[0m\u001b[0mTupla_01\u001b[0m\u001b[0;34m)\u001b[0m\u001b[0;34m\u001b[0m\u001b[0;34m\u001b[0m\u001b[0m\n",
      "\u001b[0;31mTypeError\u001b[0m: 'tuple' object does not support item assignment"
     ]
    }
   ],
   "source": [
    "Tupla_01 = (6,'hola',8)\n",
    "Tupla_01[1] = 5\n",
    "print(Tupla_01)"
   ]
  },
  {
   "cell_type": "code",
   "execution_count": 22,
   "metadata": {},
   "outputs": [
    {
     "name": "stdout",
     "output_type": "stream",
     "text": [
      "(6, 8, 10)\n",
      "(5, 6)\n"
     ]
    }
   ],
   "source": [
    "Tupla_01 =(6, 8, 10)\n",
    "print(Tupla_01)\n",
    "\n",
    "Tupla_01 = (5,6)\n",
    "print(Tupla_01)"
   ]
  },
  {
   "cell_type": "markdown",
   "metadata": {},
   "source": [
    "# Ejercicios\n",
    "1.- Escribir un programa para comparar y obtener la diferencia de dos listas.\n",
    "\n",
    "2.- Escribir un programa que lea una lista de 10 elementos y que indique el segundo número menor de la lista.\n",
    "\n",
    "3.- Escribir un programa que cuente la frecuencia de los elementos de una lista. \n",
    "\n",
    "4.- Escribir un programa que muestre los elementos que se repiten en dos listas de 20 elementos cada una, la lista debe ser llenada a través del teclado. \n"
   ]
  },
  {
   "cell_type": "code",
   "execution_count": null,
   "metadata": {},
   "outputs": [],
   "source": []
  }
 ],
 "metadata": {
  "kernelspec": {
   "display_name": "Python 3",
   "language": "python",
   "name": "python3"
  },
  "language_info": {
   "codemirror_mode": {
    "name": "ipython",
    "version": 3
   },
   "file_extension": ".py",
   "mimetype": "text/x-python",
   "name": "python",
   "nbconvert_exporter": "python",
   "pygments_lexer": "ipython3",
   "version": "3.8.5"
  }
 },
 "nbformat": 4,
 "nbformat_minor": 4
}

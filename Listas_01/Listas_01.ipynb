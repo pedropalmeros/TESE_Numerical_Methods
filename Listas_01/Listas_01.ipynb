{
 "cells": [
  {
   "cell_type": "markdown",
   "metadata": {},
   "source": [
    "# Listas en Python\n",
    "\n"
   ]
  },
  {
   "cell_type": "markdown",
   "metadata": {},
   "source": [
    "Las listas en Python hace referencia a una estructura de datos, muy similiar a los arreglos y vectore en C++, quizá es más cercana a los vectores en C++. En Python son una herramienta muy útil y poderosa que estermos utilizando a lo largo del cuso\n",
    "\n",
    "## ¿Qué  es una lista?\n",
    "\n",
    "Una lista de forma muy general es una colección de elementos en un orden en particular. Se puede tener una lista que tenga, las letras del abecedario, los números, cadenas de caracteres o cualquier elmento. NO NECESARIAMENTE DEBE DE EXISTIR UNA RELACIÓN ENTRE LOS ELEMENTOS DE UNA LISTA.\n",
    "\n",
    "En Python para poder declarar una lista se utilizan los corchetes ([  ])y los elementos de la lista deben de ir separados por una coma (,). En la siguiente celda se muestra la forma correcta de poder declarar una lista"
   ]
  },
  {
   "cell_type": "code",
   "execution_count": 17,
   "metadata": {},
   "outputs": [
    {
     "name": "stdout",
     "output_type": "stream",
     "text": [
      "['Calculo II', 'Métodos Numéricos', 'Ecuaciones Diferenciales']\n"
     ]
    }
   ],
   "source": [
    "#Celda 01\n",
    "\n",
    "materias = ['Calculo II','Métodos Numéricos','Ecuaciones Diferenciales']\n",
    "print(materias)"
   ]
  },
  {
   "cell_type": "markdown",
   "metadata": {},
   "source": [
    "## Ingresando y modificando  los elementos de una lista\n",
    "\n",
    "Las listas, como ya se ha mencionado, son colecciones ordenadas de elmentos, entonces, si se desea ingresar a un elemento en específico sólo se le tiene que indicar la posición dentro de la lista en el que se encuentra. A ésta posición también se le conoce como índice.\n",
    "\n",
    "Cambiaremos la materia de 'Calculo II' (que le falta acento y se corregirá)."
   ]
  },
  {
   "cell_type": "code",
   "execution_count": 18,
   "metadata": {},
   "outputs": [
    {
     "name": "stdout",
     "output_type": "stream",
     "text": [
      "['Cálculo II', 'Métodos Numéricos', 'Ecuaciones Diferenciales']\n"
     ]
    }
   ],
   "source": [
    "#Celda 02\n",
    "materias[0] = 'Cálculo II'\n",
    "print(materias)"
   ]
  },
  {
   "cell_type": "markdown",
   "metadata": {},
   "source": [
    "Observe que el primer lugar de la lista es $0$, entonces nuestra lista de materias tiene 3 elementos y los ídices son 0,1 y 2.\n"
   ]
  },
  {
   "cell_type": "markdown",
   "metadata": {},
   "source": [
    "## Cambiando, agregarndo y eliminando elementos\n",
    "\n",
    "Algunas listas que se utilizarán a lo largo del curso serán dinámicas, es decir, el tamaño de las listas puede cambiar ya sea agregando o quitando términos, o modificándolos en función del programa. \n",
    "\n",
    "Para modificar se puede basar en la celda de código anterior, donde se ha corregido la ortografía de la materia Cálculo II.\n",
    "\n",
    "### Agregando elementos a una lista\n",
    "Python proporciona varios métodos para agregar elementos a una lista el primero agregando el elemento al final de la lista (*append* en inglés) y el segundo método es insertándo el elemento en la posición que se desa y hacer el corrimiento de los índices. \n",
    "\n",
    "#### *Append* elementos a una lista\n",
    "Para poder añadir al final de la lista los elementos, simplement se debe de utilizar el método `lista.append(elemento_por_agregar)`, en el caso de la lista materias se añadirá el elemento `Bases de datos`."
   ]
  },
  {
   "cell_type": "code",
   "execution_count": 19,
   "metadata": {},
   "outputs": [
    {
     "name": "stdout",
     "output_type": "stream",
     "text": [
      "['Cálculo II', 'Métodos Numéricos', 'Ecuaciones Diferenciales', 'Base de datos']\n"
     ]
    }
   ],
   "source": [
    "#Celda 03\n",
    "#Nota debe de correr primero la Celda 01\n",
    "materias.append('Base de datos')\n",
    "print(materias)"
   ]
  },
  {
   "cell_type": "markdown",
   "metadata": {},
   "source": [
    "#### Insertando elementos en una lista\n",
    "Para poder insertar elementos en la lista se debe de utilizar el método `lista.insert(indice,elemento_por_insertar)`, para ejemplificar se insertará la materia de `'Cálculo Diferencial'` en la posición 1."
   ]
  },
  {
   "cell_type": "code",
   "execution_count": 20,
   "metadata": {},
   "outputs": [
    {
     "name": "stdout",
     "output_type": "stream",
     "text": [
      "['Cálculo II', 'Cálculo Vectorial', 'Métodos Numéricos', 'Ecuaciones Diferenciales', 'Base de datos']\n"
     ]
    }
   ],
   "source": [
    "#Celda 04\n",
    "#Nota debe de correr primero la Celda 01\n",
    "materias.insert(1,'Cálculo Vectorial')\n",
    "print(materias)"
   ]
  },
  {
   "cell_type": "markdown",
   "metadata": {},
   "source": [
    "### Eliminando elementos de la lista\n",
    "Así como existen diferentes maneras de poder introducir elementos a una lista, también exitend iferetnes métodos para poder eliminar elementos. \n",
    "\n",
    "#### Eliminando utilizando el método `del`\n",
    "La primer forma parapoder eliminar algún elemento de la lista es tuilizando `del` aunque no es propiamente un método ya que no pertenece directamente al objeto `list`, sin embargo, para nuestros fines es útil. La sintaxis es la siguiente\n",
    "`del lista[índice]`\n",
    "de esta manera se eliminará el índice que se indique de la lista. A continuación se muestra un ejemplo"
   ]
  },
  {
   "cell_type": "code",
   "execution_count": 21,
   "metadata": {},
   "outputs": [
    {
     "name": "stdout",
     "output_type": "stream",
     "text": [
      "['servilletas', 'manzanas', 'naranjas', 'peras', 'jamón']\n",
      "Se eliminará el elemento 2\n",
      "Se ha eliminado el segundo elemento \n",
      "La nueva lista es:\n",
      "['servilletas', 'manzanas', 'peras', 'jamón']\n"
     ]
    }
   ],
   "source": [
    "#Celda 05\n",
    "\n",
    "lista_super = ['servilletas','manzanas','naranjas','peras','jamón']\n",
    "print(lista_super)\n",
    "print(\"Se eliminará el elemento 2\")\n",
    "del lista_super[2]\n",
    "print(\"Se ha eliminado el segundo elemento \\nLa nueva lista es:\")\n",
    "print(lista_super)"
   ]
  },
  {
   "cell_type": "markdown",
   "metadata": {},
   "source": [
    "#### Eliminando utilizando el método .pop()\n",
    "Algunas veces se requiere utilizar un método y después eliminarlo de la lista. El método `.pop()`, permite eliminar el último elemento de la lista y seguir utilizándolo hasta donde las reglas de alcane lo permitan. \n",
    "Alicemos el siguiente ejemplo"
   ]
  },
  {
   "cell_type": "code",
   "execution_count": 22,
   "metadata": {},
   "outputs": [
    {
     "name": "stdout",
     "output_type": "stream",
     "text": [
      "['naranja', 'mandarina', 'lima', 'limón', 'manzana']\n",
      "La manzana no pertenece a los cítricos\n",
      "['naranja', 'mandarina', 'lima', 'limón']\n"
     ]
    }
   ],
   "source": [
    "#Celda 06\n",
    "\n",
    "citricos = ['naranja','mandarina','lima','limón','manzana']\n",
    "print(citricos)\n",
    "no_citrico = citricos.pop()\n",
    "print(\"La \" + no_citrico + \" no pertenece a los cítricos\")\n",
    "print(citricos)"
   ]
  },
  {
   "cell_type": "markdown",
   "metadata": {},
   "source": [
    "El método `.pop()` no sólo ayuda a eliminar el último elemento, sino que también puede ayudar a eliminar cualquier elemento, siempre y cuando se conozca el índice.\n"
   ]
  },
  {
   "cell_type": "code",
   "execution_count": 23,
   "metadata": {},
   "outputs": [
    {
     "name": "stdout",
     "output_type": "stream",
     "text": [
      "['naranja', 'manzana', 'mandarina', 'lima', 'limón']\n",
      "La manzana no pertenece a los cítricos\n",
      "['naranja', 'mandarina', 'lima', 'limón']\n"
     ]
    }
   ],
   "source": [
    "#Celda 07\n",
    "\n",
    "citricos = ['naranja','manzana','mandarina','lima','limón']\n",
    "print(citricos)\n",
    "no_citrico = citricos.pop(1)\n",
    "print(\"La \" + no_citrico + \" no pertenece a los cítricos\")\n",
    "print(citricos)"
   ]
  },
  {
   "cell_type": "markdown",
   "metadata": {},
   "source": [
    "#### Eliminando elementos con el método `.remove`\n",
    "Si conoce el valor de lo que guarda la celda de la lista puede eliminar el elemento, sin necesidad de conocer el índice donde se ubique, para esto se debe de utilizar el método `.remove(valor)`, en la siguiente celda se muestra un ejemplo\n"
   ]
  },
  {
   "cell_type": "code",
   "execution_count": 24,
   "metadata": {},
   "outputs": [
    {
     "name": "stdout",
     "output_type": "stream",
     "text": [
      "['rojo', 'azul', 'amarillo', 'verde']\n",
      "['rojo', 'azul', 'amarillo']\n"
     ]
    }
   ],
   "source": [
    "#Celda 08\n",
    "\n",
    "colores_primarios = ['rojo','azul','amarillo','verde']\n",
    "print(colores_primarios)\n",
    "colores_primarios.remove('verde')\n",
    "print(colores_primarios)"
   ]
  },
  {
   "cell_type": "markdown",
   "metadata": {},
   "source": [
    "## Organizando una lista\n",
    "\n",
    "En algunas ocasiones no se tiene control en la forma en que se van cargando valores a una lista, y por algún motivo es necesario organizar los valores ya sea de manera temporal o definitiva, ya sea para poder graficarlos o mostrar valores máximos y mínimos, esto es muy útil y Python nos facilita la tarea en ese sentido, \n",
    "\n",
    "### Organizando los elementos de forma definitiva\n",
    "\n",
    "Para poder organizarlos de ésta manera, es necesario utilizar el método `.sort()`, observemos en la siguiente celda un ejemplo. "
   ]
  },
  {
   "cell_type": "code",
   "execution_count": 25,
   "metadata": {},
   "outputs": [
    {
     "name": "stdout",
     "output_type": "stream",
     "text": [
      "['ford', 'bmw', 'audi', 'nissan', 'buick', 'lincoln']\n",
      "['audi', 'bmw', 'buick', 'ford', 'lincoln', 'nissan']\n"
     ]
    }
   ],
   "source": [
    "#Celda 09\n",
    "autos = ['ford','bmw','audi','nissan','buick','lincoln']\n",
    "print(autos)\n",
    "autos.sort()\n",
    "print(autos)"
   ]
  },
  {
   "cell_type": "markdown",
   "metadata": {},
   "source": [
    "### Organizando los elementos de forma temporal\n",
    "\n",
    "En algunas ocasiones, es necesario, mostrar sólo de forma instánea y temporal los elementos organizados, pero por alguna razón, nos interesa seguir guardando el orden original, para hacer esta tarea se tiene el método `.sorted()`, en la siguiente celda se muestra un ejemplo"
   ]
  },
  {
   "cell_type": "code",
   "execution_count": 26,
   "metadata": {},
   "outputs": [
    {
     "name": "stdout",
     "output_type": "stream",
     "text": [
      "La lista original es:\n",
      "['audi', 'bmw', 'buick', 'ford', 'lincoln', 'nissan']\n",
      "La lista organizada temporal es: \n",
      "['audi', 'bmw', 'buick', 'ford', 'lincoln', 'nissan']\n",
      "La lista original es:\n",
      "['audi', 'bmw', 'buick', 'ford', 'lincoln', 'nissan']\n"
     ]
    }
   ],
   "source": [
    "#Celda 10\n",
    "autos= ['ford','bmw','audi','nissan','buick','lincoln']\n",
    "\n",
    "print(\"La lista original es:\")\n",
    "print(autos)\n",
    "\n",
    "print(\"La lista organizada temporal es: \")\n",
    "print(sorted(autos))\n",
    "\n",
    "print(\"La lista original es:\")\n",
    "print(autos)\n",
    "\n"
   ]
  },
  {
   "cell_type": "markdown",
   "metadata": {},
   "source": [
    "**Nota:** Debe de tener cuidado si desea mezclar mayúsculas y minúsculas ya que python las considera en jerarquías diferentes. \n"
   ]
  },
  {
   "cell_type": "markdown",
   "metadata": {},
   "source": [
    "### Invertiendo el orden de la lista\n",
    "\n",
    "Para poder invertir el orden de una lista se debe de utilizar el método `.reverse()` sobre la lista que se desea cambiar "
   ]
  },
  {
   "cell_type": "code",
   "execution_count": 27,
   "metadata": {},
   "outputs": [
    {
     "name": "stdout",
     "output_type": "stream",
     "text": [
      "['ford', 'bmw', 'audi', 'nissan', 'buick', 'lincoln']\n",
      "['lincoln', 'buick', 'nissan', 'audi', 'bmw', 'ford']\n"
     ]
    }
   ],
   "source": [
    "#Celda 11\n",
    "autos = ['ford','bmw','audi','nissan','buick','lincoln']\n",
    "\n",
    "print(autos)\n",
    "\n",
    "autos.reverse()\n",
    "\n",
    "print(autos)"
   ]
  },
  {
   "cell_type": "markdown",
   "metadata": {},
   "source": [
    "### Obteniendo la longitud de una lista\n",
    "\n",
    "Para obtener la longitud de una lista, es necesario utilizar la función `len(lista)` y ésta función regresará el tamaño de la lista\n"
   ]
  },
  {
   "cell_type": "code",
   "execution_count": 28,
   "metadata": {},
   "outputs": [
    {
     "name": "stdout",
     "output_type": "stream",
     "text": [
      "['ford', 'bmw', 'audi', 'nissan', 'buick', 'lincoln']\n",
      "6\n"
     ]
    }
   ],
   "source": [
    "#Celda 12\n",
    "autos = ['ford','bmw','audi','nissan','buick','lincoln']\n",
    "\n",
    "print(autos)\n",
    "\n",
    "print(len(autos))"
   ]
  },
  {
   "cell_type": "markdown",
   "metadata": {},
   "source": []
  }
 ],
 "metadata": {
  "kernelspec": {
   "display_name": "Python 3",
   "language": "python",
   "name": "python3"
  },
  "language_info": {
   "codemirror_mode": {
    "name": "ipython",
    "version": 3
   },
   "file_extension": ".py",
   "mimetype": "text/x-python",
   "name": "python",
   "nbconvert_exporter": "python",
   "pygments_lexer": "ipython3",
   "version": "3.8.5"
  }
 },
 "nbformat": 4,
 "nbformat_minor": 4
}

{
 "cells": [
  {
   "cell_type": "markdown",
   "metadata": {},
   "source": [
    "Definiendo g1 \n",
    "\n",
    "\n",
    "$x = \\frac{5}{2x-1}$"
   ]
  },
  {
   "cell_type": "code",
   "execution_count": 1,
   "metadata": {},
   "outputs": [],
   "source": [
    "def g2(x):\n",
    "    return 5/(2*x-1)"
   ]
  },
  {
   "cell_type": "code",
   "execution_count": 2,
   "metadata": {},
   "outputs": [],
   "source": [
    "x_vec = []"
   ]
  },
  {
   "cell_type": "code",
   "execution_count": 3,
   "metadata": {},
   "outputs": [],
   "source": [
    "x_vec.append(0)"
   ]
  },
  {
   "cell_type": "code",
   "execution_count": 4,
   "metadata": {},
   "outputs": [
    {
     "name": "stdout",
     "output_type": "stream",
     "text": [
      "[0]\n"
     ]
    }
   ],
   "source": [
    "print(x_vec)"
   ]
  },
  {
   "cell_type": "code",
   "execution_count": 5,
   "metadata": {},
   "outputs": [
    {
     "name": "stdout",
     "output_type": "stream",
     "text": [
      "-5.0\n",
      "[0, -5.0]\n"
     ]
    }
   ],
   "source": [
    "x1 = g2(x_vec[0])\n",
    "print(x1)\n",
    "x_vec.append(x1)\n",
    "print(x_vec)"
   ]
  },
  {
   "cell_type": "code",
   "execution_count": 6,
   "metadata": {},
   "outputs": [
    {
     "name": "stdout",
     "output_type": "stream",
     "text": [
      "-5.0\n",
      "[0, -5.0, -0.45454545454545453]\n"
     ]
    }
   ],
   "source": [
    "x2 = g2(x_vec[1])\n",
    "print(x1)\n",
    "x_vec.append(x2)\n",
    "print(x_vec)"
   ]
  },
  {
   "cell_type": "code",
   "execution_count": 7,
   "metadata": {},
   "outputs": [
    {
     "name": "stdout",
     "output_type": "stream",
     "text": [
      "-2.619047619047619\n",
      "[0, -5.0, -0.45454545454545453, -2.619047619047619]\n"
     ]
    }
   ],
   "source": [
    "x3 = g2(x_vec[2])\n",
    "print(x3)\n",
    "x_vec.append(x3)\n",
    "print(x_vec)"
   ]
  },
  {
   "cell_type": "code",
   "execution_count": 8,
   "metadata": {},
   "outputs": [
    {
     "name": "stdout",
     "output_type": "stream",
     "text": [
      "-0.8015267175572519\n",
      "[0, -5.0, -0.45454545454545453, -2.619047619047619, -0.8015267175572519]\n"
     ]
    }
   ],
   "source": [
    "x4 = g2(x_vec[3])\n",
    "print(x4)\n",
    "x_vec.append(x4)\n",
    "print(x_vec)"
   ]
  },
  {
   "cell_type": "code",
   "execution_count": 9,
   "metadata": {},
   "outputs": [
    {
     "name": "stdout",
     "output_type": "stream",
     "text": [
      "-1.9208211143695015\n",
      "[0, -5.0, -0.45454545454545453, -2.619047619047619, -0.8015267175572519, -0.8015267175572519]\n"
     ]
    }
   ],
   "source": [
    "x5= g2(x_vec[4])\n",
    "print(x5)\n",
    "x_vec.append(x5)\n",
    "print(x_vec)"
   ]
  },
  {
   "cell_type": "code",
   "execution_count": null,
   "metadata": {},
   "outputs": [],
   "source": []
  }
 ],
 "metadata": {
  "kernelspec": {
   "display_name": "Python 3",
   "language": "python",
   "name": "python3"
  },
  "language_info": {
   "codemirror_mode": {
    "name": "ipython",
    "version": 3
   },
   "file_extension": ".py",
   "mimetype": "text/x-python",
   "name": "python",
   "nbconvert_exporter": "python",
   "pygments_lexer": "ipython3",
   "version": "3.8.5"
  }
 },
 "nbformat": 4,
 "nbformat_minor": 4
}
